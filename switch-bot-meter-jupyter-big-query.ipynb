{
 "cells": [
  {
   "cell_type": "code",
   "execution_count": 6,
   "metadata": {},
   "outputs": [],
   "source": [
    "from google.cloud.bigquery import magics\n",
    "from google.oauth2 import service_account\n",
    "\n",
    "credentials = service_account.Credentials.from_service_account_file(\n",
    "    '/home/okano/switch-bot-320517-13164e6e01d8.json')\n",
    "\n",
    "scoped_credentials = credentials.with_scopes(\n",
    "    ['https://www.googleapis.com/auth/cloud-platform'])\n",
    "\n",
    "magics.context.credentials = credentials"
   ]
  },
  {
   "cell_type": "code",
   "execution_count": 4,
   "metadata": {},
   "outputs": [],
   "source": [
    "import os\n",
    "os.environ['GOOGLE_APPLICATION_CREDENTIALS'] = '/home/okano/switch-bot-320517-13164e6e01d8.json'"
   ]
  },
  {
   "cell_type": "code",
   "execution_count": 1,
   "metadata": {},
   "outputs": [],
   "source": [
    "%load_ext google.cloud.bigquery"
   ]
  },
  {
   "cell_type": "code",
   "execution_count": 7,
   "metadata": {},
   "outputs": [],
   "source": [
    "%%bigquery meter_data\n",
    "SELECT * FROM `switch-bot-320517.import.meter` WHERE dt = \"2022-04-01\""
   ]
  },
  {
   "cell_type": "code",
   "execution_count": 8,
   "metadata": {},
   "outputs": [
    {
     "data": {
      "text/html": [
       "<div>\n",
       "<style scoped>\n",
       "    .dataframe tbody tr th:only-of-type {\n",
       "        vertical-align: middle;\n",
       "    }\n",
       "\n",
       "    .dataframe tbody tr th {\n",
       "        vertical-align: top;\n",
       "    }\n",
       "\n",
       "    .dataframe thead th {\n",
       "        text-align: right;\n",
       "    }\n",
       "</style>\n",
       "<table border=\"1\" class=\"dataframe\">\n",
       "  <thead>\n",
       "    <tr style=\"text-align: right;\">\n",
       "      <th></th>\n",
       "      <th>exec_time</th>\n",
       "      <th>device</th>\n",
       "      <th>temperature</th>\n",
       "      <th>humidity</th>\n",
       "      <th>dt</th>\n",
       "    </tr>\n",
       "  </thead>\n",
       "  <tbody>\n",
       "    <tr>\n",
       "      <th>0</th>\n",
       "      <td>2022-04-01 18:54:06+00:00</td>\n",
       "      <td>north_room</td>\n",
       "      <td>19.4</td>\n",
       "      <td>48</td>\n",
       "      <td>2022-04-01</td>\n",
       "    </tr>\n",
       "    <tr>\n",
       "      <th>1</th>\n",
       "      <td>2022-04-01 19:00:06+00:00</td>\n",
       "      <td>north_room</td>\n",
       "      <td>19.0</td>\n",
       "      <td>48</td>\n",
       "      <td>2022-04-01</td>\n",
       "    </tr>\n",
       "    <tr>\n",
       "      <th>2</th>\n",
       "      <td>2022-04-01 19:06:06+00:00</td>\n",
       "      <td>north_room</td>\n",
       "      <td>18.6</td>\n",
       "      <td>49</td>\n",
       "      <td>2022-04-01</td>\n",
       "    </tr>\n",
       "    <tr>\n",
       "      <th>3</th>\n",
       "      <td>2022-04-01 22:00:06+00:00</td>\n",
       "      <td>north_room</td>\n",
       "      <td>18.4</td>\n",
       "      <td>49</td>\n",
       "      <td>2022-04-01</td>\n",
       "    </tr>\n",
       "    <tr>\n",
       "      <th>4</th>\n",
       "      <td>2022-04-01 22:35:06+00:00</td>\n",
       "      <td>north_room</td>\n",
       "      <td>17.9</td>\n",
       "      <td>49</td>\n",
       "      <td>2022-04-01</td>\n",
       "    </tr>\n",
       "    <tr>\n",
       "      <th>...</th>\n",
       "      <td>...</td>\n",
       "      <td>...</td>\n",
       "      <td>...</td>\n",
       "      <td>...</td>\n",
       "      <td>...</td>\n",
       "    </tr>\n",
       "    <tr>\n",
       "      <th>471</th>\n",
       "      <td>2022-04-01 13:01:06+00:00</td>\n",
       "      <td>south_room</td>\n",
       "      <td>14.8</td>\n",
       "      <td>67</td>\n",
       "      <td>2022-04-01</td>\n",
       "    </tr>\n",
       "    <tr>\n",
       "      <th>472</th>\n",
       "      <td>2022-04-01 13:07:06+00:00</td>\n",
       "      <td>south_room</td>\n",
       "      <td>14.8</td>\n",
       "      <td>67</td>\n",
       "      <td>2022-04-01</td>\n",
       "    </tr>\n",
       "    <tr>\n",
       "      <th>473</th>\n",
       "      <td>2022-04-01 13:13:06+00:00</td>\n",
       "      <td>south_room</td>\n",
       "      <td>14.9</td>\n",
       "      <td>67</td>\n",
       "      <td>2022-04-01</td>\n",
       "    </tr>\n",
       "    <tr>\n",
       "      <th>474</th>\n",
       "      <td>2022-04-01 00:06:06+00:00</td>\n",
       "      <td>south_room</td>\n",
       "      <td>17.8</td>\n",
       "      <td>68</td>\n",
       "      <td>2022-04-01</td>\n",
       "    </tr>\n",
       "    <tr>\n",
       "      <th>475</th>\n",
       "      <td>2022-04-01 00:12:06+00:00</td>\n",
       "      <td>south_room</td>\n",
       "      <td>17.9</td>\n",
       "      <td>68</td>\n",
       "      <td>2022-04-01</td>\n",
       "    </tr>\n",
       "  </tbody>\n",
       "</table>\n",
       "<p>476 rows × 5 columns</p>\n",
       "</div>"
      ],
      "text/plain": [
       "                    exec_time      device  temperature  humidity          dt\n",
       "0   2022-04-01 18:54:06+00:00  north_room         19.4        48  2022-04-01\n",
       "1   2022-04-01 19:00:06+00:00  north_room         19.0        48  2022-04-01\n",
       "2   2022-04-01 19:06:06+00:00  north_room         18.6        49  2022-04-01\n",
       "3   2022-04-01 22:00:06+00:00  north_room         18.4        49  2022-04-01\n",
       "4   2022-04-01 22:35:06+00:00  north_room         17.9        49  2022-04-01\n",
       "..                        ...         ...          ...       ...         ...\n",
       "471 2022-04-01 13:01:06+00:00  south_room         14.8        67  2022-04-01\n",
       "472 2022-04-01 13:07:06+00:00  south_room         14.8        67  2022-04-01\n",
       "473 2022-04-01 13:13:06+00:00  south_room         14.9        67  2022-04-01\n",
       "474 2022-04-01 00:06:06+00:00  south_room         17.8        68  2022-04-01\n",
       "475 2022-04-01 00:12:06+00:00  south_room         17.9        68  2022-04-01\n",
       "\n",
       "[476 rows x 5 columns]"
      ]
     },
     "execution_count": 8,
     "metadata": {},
     "output_type": "execute_result"
    }
   ],
   "source": [
    "meter_data"
   ]
  },
  {
   "cell_type": "code",
   "execution_count": 12,
   "metadata": {},
   "outputs": [
    {
     "data": {
      "image/png": "[encoded data removed]",
      "text/plain": [
       "<Figure size 432x288 with 1 Axes>"
      ]
     },
     "metadata": {
      "needs_background": "light"
     },
     "output_type": "display_data"
    },
    {
     "data": {
      "image/png": "[encoded data removed]",
      "text/plain": [
       "<Figure size 432x288 with 1 Axes>"
      ]
     },
     "metadata": {
      "needs_background": "light"
     },
     "output_type": "display_data"
    }
   ],
   "source": [
    "%matplotlib inline\n",
    "temperature = meter_data[['exec_time','device','temperature']]\n",
    "south_temp = temperature.loc[temperature['device'] == 'south_room'].plot.line(x='exec_time').set_title('south_temperature')\n",
    "north_temp = temperature.loc[temperature['device'] == 'north_room'].plot.line(x='exec_time').set_title('north_temperature')"
   ]
  }
 ],
 "metadata": {
  "interpreter": {
   "hash": "767d51c1340bd893661ea55ea3124f6de3c7a262a8b4abca0554b478b1e2ff90"
  },
  "kernelspec": {
   "display_name": "Python 2.7.17 64-bit",
   "language": "python",
   "name": "python3"
  },
  "language_info": {
   "codemirror_mode": {
    "name": "ipython",
    "version": 3
   },
   "file_extension": ".py",
   "mimetype": "text/x-python",
   "name": "python",
   "nbconvert_exporter": "python",
   "pygments_lexer": "ipython3",
   "version": "3.6.7"
  },
  "orig_nbformat": 4
 },
 "nbformat": 4,
 "nbformat_minor": 2
}
